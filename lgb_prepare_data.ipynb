{
 "cells": [
  {
   "cell_type": "markdown",
   "id": "71864c7d-f750-47cd-9c10-cc05a0c4acda",
   "metadata": {},
   "source": [
    "# 准备数据"
   ]
  },
  {
   "cell_type": "code",
   "execution_count": null,
   "id": "2dfc61a9-a48e-4a7a-bcc0-b2f756f615e9",
   "metadata": {},
   "outputs": [],
   "source": [
    "from rf import process_kddcup_data_test\n",
    "\n",
    "process_kddcup_data_test.extract_paper_info_from_dblp()\n",
    "process_kddcup_data_test.extract_train_features()\n",
    "process_kddcup_data_test.extract_valid_features()"
   ]
  }
 ],
 "metadata": {
  "kernelspec": {
   "display_name": "Python 3 (ipykernel)",
   "language": "python",
   "name": "python3"
  },
  "language_info": {
   "codemirror_mode": {
    "name": "ipython",
    "version": 3
   },
   "file_extension": ".py",
   "mimetype": "text/x-python",
   "name": "python",
   "nbconvert_exporter": "python",
   "pygments_lexer": "ipython3",
   "version": "3.8.13"
  }
 },
 "nbformat": 4,
 "nbformat_minor": 5
}
