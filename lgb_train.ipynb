{
 "cells": [
  {
   "cell_type": "markdown",
   "id": "06a5edd1-56a8-4149-a0f1-d409f08b45c9",
   "metadata": {},
   "source": [
    "# 准备数据"
   ]
  },
  {
   "cell_type": "code",
   "execution_count": 3,
   "id": "959c2869-fb8c-462d-ae39-49e9a62ff312",
   "metadata": {
    "scrolled": true,
    "tags": []
   },
   "outputs": [],
   "source": [
    "from rf import process_kddcup_data_test\n",
    "\n",
    "process_kddcup_data_test.extract_paper_info_from_dblp()\n",
    "process_kddcup_data_test.extract_train_features()\n",
    "process_kddcup_data_test.extract_valid_features()"
   ]
  },
  {
   "cell_type": "markdown",
   "id": "19c8eeb7-bb03-4880-a690-6be85944dfc3",
   "metadata": {},
   "source": [
    "# 训练数据"
   ]
  },
  {
   "cell_type": "code",
   "execution_count": 7,
   "id": "452d2323-3fcc-4a1a-acc8-463f163e1e89",
   "metadata": {
    "tags": []
   },
   "outputs": [],
   "source": [
    "from rf import model_rf_test\n",
    "global model_type\n",
    "model_type = 'LGB'\n",
    "for seed in [0, 42, 6565, 987456]:\n",
    "    print('seed >>> ', seed)\n",
    "    model_rf_test.train_classifier(seed, model_type=model_type)"
   ]
  },
  {
   "cell_type": "code",
   "execution_count": null,
   "id": "d85513dc-1817-4fc1-9d1d-addbf2447005",
   "metadata": {},
   "outputs": [],
   "source": []
  }
 ],
 "metadata": {
  "kernelspec": {
   "display_name": "Python 3 (ipykernel)",
   "language": "python",
   "name": "python3"
  },
  "language_info": {
   "codemirror_mode": {
    "name": "ipython",
    "version": 3
   },
   "file_extension": ".py",
   "mimetype": "text/x-python",
   "name": "python",
   "nbconvert_exporter": "python",
   "pygments_lexer": "ipython3",
   "version": "3.8.13"
  }
 },
 "nbformat": 4,
 "nbformat_minor": 5
}
