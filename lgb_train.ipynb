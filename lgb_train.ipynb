{
 "cells": [
  {
   "cell_type": "markdown",
   "id": "19c8eeb7-bb03-4880-a690-6be85944dfc3",
   "metadata": {
    "tags": []
   },
   "source": [
    "# 训练"
   ]
  },
  {
   "cell_type": "code",
   "execution_count": 7,
   "id": "452d2323-3fcc-4a1a-acc8-463f163e1e89",
   "metadata": {
    "tags": []
   },
   "outputs": [],
   "source": [
    "from rf import model_rf_test\n",
    "global model_type\n",
    "model_type = 'LGB'\n",
    "for seed in [0, 42, 6565, 987456]:\n",
    "    print('seed >>> ', seed)\n",
    "    model_rf_test.train_classifier(seed, model_type=model_type)"
   ]
  },
  {
   "cell_type": "code",
   "execution_count": null,
   "id": "d85513dc-1817-4fc1-9d1d-addbf2447005",
   "metadata": {},
   "outputs": [],
   "source": []
  }
 ],
 "metadata": {
  "kernelspec": {
   "display_name": "Python 3 (ipykernel)",
   "language": "python",
   "name": "python3"
  },
  "language_info": {
   "codemirror_mode": {
    "name": "ipython",
    "version": 3
   },
   "file_extension": ".py",
   "mimetype": "text/x-python",
   "name": "python",
   "nbconvert_exporter": "python",
   "pygments_lexer": "ipython3",
   "version": "3.8.13"
  }
 },
 "nbformat": 4,
 "nbformat_minor": 5
}
