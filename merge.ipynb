{
 "cells": [
  {
   "cell_type": "code",
   "execution_count": 1,
   "id": "e168e408-3d2a-4ee5-b039-081fb2b69088",
   "metadata": {
    "tags": []
   },
   "outputs": [],
   "source": [
    "import numpy as np\n",
    "from os.path import join\n",
    "import json\n",
    "import os\n",
    "import sys\n",
    "import utils\n",
    "import settings"
   ]
  },
  {
   "cell_type": "markdown",
   "id": "a910988e-b826-4d62-9606-9265effb8c3a",
   "metadata": {},
   "source": [
    "# LGB融合"
   ]
  },
  {
   "cell_type": "code",
   "execution_count": 2,
   "id": "979c8007-a60e-4af8-a333-4cfe1473d67f",
   "metadata": {
    "tags": []
   },
   "outputs": [],
   "source": [
    "OUTPUT_DIR = join(settings.OUT_DIR, \"kddcup\")"
   ]
  },
  {
   "cell_type": "code",
   "execution_count": 14,
   "id": "a5374426-c32d-4585-a045-389273f470b8",
   "metadata": {
    "tags": []
   },
   "outputs": [
    {
     "name": "stderr",
     "output_type": "stream",
     "text": [
      "2024-06-12 14:44:09,108 loading test_sub_LGB_0.json ...\n",
      "2024-06-12 14:44:09,111 test_sub_LGB_0.json loaded\n",
      "2024-06-12 14:44:09,112 loading test_sub_LGB_42.json ...\n",
      "2024-06-12 14:44:09,114 test_sub_LGB_42.json loaded\n",
      "2024-06-12 14:44:09,115 loading test_sub_LGB_6565.json ...\n",
      "2024-06-12 14:44:09,117 test_sub_LGB_6565.json loaded\n",
      "2024-06-12 14:44:09,118 loading test_sub_LGB_987456.json ...\n",
      "2024-06-12 14:44:09,120 test_sub_LGB_987456.json loaded\n",
      "2024-06-12 14:44:09,130 dumping test_submission_ensemble_results_4lgb.json ...\n",
      "2024-06-12 14:44:09,149 test_submission_ensemble_results_4lgb.json dumped.\n"
     ]
    }
   ],
   "source": [
    "sub_dict_lgb1 = utils.load_json(f'{OUTPUT_DIR}/rf', 'test_sub_LGB_0.json')\n",
    "sub_dict_lgb2 = utils.load_json(f'{OUTPUT_DIR}/rf', 'test_sub_LGB_42.json')\n",
    "sub_dict_lgb3 = utils.load_json(f'{OUTPUT_DIR}/rf', 'test_sub_LGB_6565.json')\n",
    "sub_dict_lgb4 = utils.load_json(f'{OUTPUT_DIR}/rf', 'test_sub_LGB_987456.json')\n",
    "\n",
    "for key, value in sub_dict_lgb1.items():\n",
    "    sub_dict_lgb1[key] = 0.19 * np.array(sub_dict_lgb1[key]) \\\n",
    "                        + 0.2 * np.array(sub_dict_lgb2[key]) \\\n",
    "                        + 0.31 * np.array(sub_dict_lgb3[key]) \\\n",
    "                        + 0.31 * np.array(sub_dict_lgb4[key])\n",
    "\n",
    "# 进行均值处理  \n",
    "for key, value in sub_dict_lgb1.items():\n",
    "    sub_dict_lgb1[key] = (sub_dict_lgb1[key] / 1).tolist()\n",
    "\n",
    "utils.dump_json(sub_dict_lgb1, f'{OUTPUT_DIR}/rf', 'test_submission_ensemble_results_4lgb.json')"
   ]
  },
  {
   "cell_type": "markdown",
   "id": "76c2b06b-3486-46d3-8b14-6b66493d30ff",
   "metadata": {},
   "source": [
    "# 六个模型融合"
   ]
  },
  {
   "cell_type": "code",
   "execution_count": 16,
   "id": "8d991d4e-95cf-47fc-b923-dbaaac778440",
   "metadata": {
    "tags": []
   },
   "outputs": [
    {
     "name": "stderr",
     "output_type": "stream",
     "text": [
      "2024-06-12 14:45:10,304 loading test_submission_scibert.json ...\n",
      "2024-06-12 14:45:10,311 test_submission_scibert.json loaded\n",
      "2024-06-12 14:45:10,312 loading test_submission_roberta-base.json ...\n",
      "2024-06-12 14:45:10,320 test_submission_roberta-base.json loaded\n",
      "2024-06-12 14:45:10,322 loading test_submission_ensemble_results_4lgb.json ...\n",
      "2024-06-12 14:45:10,326 test_submission_ensemble_results_4lgb.json loaded\n",
      "2024-06-12 14:45:10,326 loading test_submission_roberta-base.json ...\n",
      "2024-06-12 14:45:10,334 test_submission_roberta-base.json loaded\n",
      "2024-06-12 14:45:10,335 loading test_submission_scibert.json ...\n",
      "2024-06-12 14:45:10,343 test_submission_scibert.json loaded\n",
      "2024-06-12 14:45:10,344 loading test_submission_deberta-base.json ...\n",
      "2024-06-12 14:45:10,352 test_submission_deberta-base.json loaded\n",
      "2024-06-12 14:45:10,362 dumping final_test_submission_6models.json ...\n",
      "2024-06-12 14:45:10,393 final_test_submission_6models.json dumped.\n"
     ]
    }
   ],
   "source": [
    "sub_dict_scibert1 = utils.load_json(f'{OUTPUT_DIR}/scibert/num_fold=4/fold_final', 'test_submission_scibert.json')\n",
    "sub_dict_roberta1 = utils.load_json(f'{OUTPUT_DIR}/roberta-base/num_fold=3/fold_final', 'test_submission_roberta-base.json')\n",
    "sub_dict_lgb = utils.load_json(f'{OUTPUT_DIR}/rf', 'test_submission_ensemble_results_4lgb.json')\n",
    "\n",
    "sub_dict_roberta2 = utils.load_json(f'{OUTPUT_DIR}/roberta-base/num_fold=0', 'test_submission_roberta-base.json')\n",
    "sub_dict_scibert2 = utils.load_json(f'{OUTPUT_DIR}/scibert/num_fold=0', 'test_submission_scibert.json')\n",
    "sub_dict_deberta = utils.load_json(f'{OUTPUT_DIR}/deberta-base/num_fold=0', 'test_submission_deberta-base.json')\n",
    "score_scibert1 = 1\n",
    "score_scibert2 = 1.5\n",
    "score_roberta1 = 1\n",
    "score_roberta2 = 2\n",
    "score_deberta = 3\n",
    "score_lgb = 1.8\n",
    "score_sum = score_scibert1 + score_scibert2 + score_roberta1 + score_roberta2 + score_deberta + score_lgb\n",
    "\n",
    "for key, value in sub_dict_scibert1.items():\n",
    "    sub_dict_scibert1[key] = (score_scibert1/score_sum) * np.array(sub_dict_scibert1[key]) \\\n",
    "                            + (score_scibert2/score_sum) * np.array(sub_dict_scibert2[key]) \\\n",
    "                            + (score_roberta1/score_sum) * np.array(sub_dict_roberta1[key]) \\\n",
    "                            + (score_roberta2/score_sum) * np.array(sub_dict_roberta2[key]) \\\n",
    "                            + (score_deberta/score_sum) * np.array(sub_dict_deberta[key]) \\\n",
    "                            + (score_lgb/score_sum) * np.array(sub_dict_lgb[key])\n",
    "    \n",
    "    \n",
    "## 进行均值处理  \n",
    "for key, value in sub_dict_scibert1.items():\n",
    "    sub_dict_scibert1[key] = (sub_dict_scibert1[key] / 1).tolist()\n",
    "\n",
    "utils.dump_json(sub_dict_scibert1, './submit', f\"final_test_submission_6models.json\")"
   ]
  },
  {
   "cell_type": "code",
   "execution_count": null,
   "id": "12de92f4-cffa-4ad0-ab2a-5dca03a64a4d",
   "metadata": {
    "tags": []
   },
   "outputs": [],
   "source": []
  },
  {
   "cell_type": "code",
   "execution_count": null,
   "id": "16fa5035-6c96-40f3-8052-ed68910a65b8",
   "metadata": {
    "tags": []
   },
   "outputs": [],
   "source": []
  },
  {
   "cell_type": "code",
   "execution_count": null,
   "id": "1cb7c86f-f423-4cb8-b431-e2b6647cabe9",
   "metadata": {},
   "outputs": [],
   "source": []
  }
 ],
 "metadata": {
  "kernelspec": {
   "display_name": "Python 3 (ipykernel)",
   "language": "python",
   "name": "python3"
  },
  "language_info": {
   "codemirror_mode": {
    "name": "ipython",
    "version": 3
   },
   "file_extension": ".py",
   "mimetype": "text/x-python",
   "name": "python",
   "nbconvert_exporter": "python",
   "pygments_lexer": "ipython3",
   "version": "3.8.13"
  },
  "vscode": {
   "interpreter": {
    "hash": "1496a2686e6032d83f44e165d8c4aab10c31199a6c3014f31d7c0f8a2db9cf9c"
   }
  }
 },
 "nbformat": 4,
 "nbformat_minor": 5
}
